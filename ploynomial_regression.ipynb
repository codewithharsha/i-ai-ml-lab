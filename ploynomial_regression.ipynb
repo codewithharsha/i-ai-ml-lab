{
 "cells": [
  {
   "cell_type": "code",
   "execution_count": 27,
   "id": "1dbe0e72",
   "metadata": {},
   "outputs": [],
   "source": [
    "from sklearn import datasets,linear_model, metrics\n",
    "from sklearn.model_selection import train_test_split\n",
    "#from sklearn.linear_model import LinearRegression\n",
    "import pandas as pd\n",
    "import matplotlib.pyplot as plt\n",
    "from sklearn.preprocessing import PolynomialFeatures"
   ]
  },
  {
   "cell_type": "code",
   "execution_count": 13,
   "id": "1f7b20de",
   "metadata": {},
   "outputs": [
    {
     "data": {
      "text/html": [
       "<div>\n",
       "<style scoped>\n",
       "    .dataframe tbody tr th:only-of-type {\n",
       "        vertical-align: middle;\n",
       "    }\n",
       "\n",
       "    .dataframe tbody tr th {\n",
       "        vertical-align: top;\n",
       "    }\n",
       "\n",
       "    .dataframe thead th {\n",
       "        text-align: right;\n",
       "    }\n",
       "</style>\n",
       "<table border=\"1\" class=\"dataframe\">\n",
       "  <thead>\n",
       "    <tr style=\"text-align: right;\">\n",
       "      <th></th>\n",
       "      <th>attendance</th>\n",
       "      <th>backlogs</th>\n",
       "      <th>certifications</th>\n",
       "      <th>marks</th>\n",
       "    </tr>\n",
       "  </thead>\n",
       "  <tbody>\n",
       "    <tr>\n",
       "      <th>0</th>\n",
       "      <td>100</td>\n",
       "      <td>0</td>\n",
       "      <td>4</td>\n",
       "      <td>96</td>\n",
       "    </tr>\n",
       "    <tr>\n",
       "      <th>1</th>\n",
       "      <td>98</td>\n",
       "      <td>0</td>\n",
       "      <td>4</td>\n",
       "      <td>97</td>\n",
       "    </tr>\n",
       "    <tr>\n",
       "      <th>2</th>\n",
       "      <td>97</td>\n",
       "      <td>0</td>\n",
       "      <td>4</td>\n",
       "      <td>93</td>\n",
       "    </tr>\n",
       "    <tr>\n",
       "      <th>3</th>\n",
       "      <td>93</td>\n",
       "      <td>0</td>\n",
       "      <td>3</td>\n",
       "      <td>90</td>\n",
       "    </tr>\n",
       "    <tr>\n",
       "      <th>4</th>\n",
       "      <td>94</td>\n",
       "      <td>0</td>\n",
       "      <td>2</td>\n",
       "      <td>92</td>\n",
       "    </tr>\n",
       "  </tbody>\n",
       "</table>\n",
       "</div>"
      ],
      "text/plain": [
       "   attendance  backlogs  certifications  marks\n",
       "0         100         0               4     96\n",
       "1          98         0               4     97\n",
       "2          97         0               4     93\n",
       "3          93         0               3     90\n",
       "4          94         0               2     92"
      ]
     },
     "execution_count": 13,
     "metadata": {},
     "output_type": "execute_result"
    }
   ],
   "source": [
    "#Reading data from csv to dataframe\n",
    "data = pd.read_csv('attendance2.csv')\n",
    "data.head(5)"
   ]
  },
  {
   "cell_type": "code",
   "execution_count": 14,
   "id": "5a44dc2e",
   "metadata": {},
   "outputs": [
    {
     "data": {
      "text/plain": [
       "<matplotlib.collections.PathCollection at 0x1cbd7992f10>"
      ]
     },
     "execution_count": 14,
     "metadata": {},
     "output_type": "execute_result"
    },
    {
     "data": {
      "image/png": "[encoded data removed]",
      "text/plain": [
       "<Figure size 640x480 with 1 Axes>"
      ]
     },
     "metadata": {},
     "output_type": "display_data"
    }
   ],
   "source": [
    "#visulation of data\n",
    "#marks vs attendance\n",
    "plt.scatter(data.marks,data.attendance,label='r')\n",
    "#marks vs certifications\n",
    "plt.scatter(data.marks,data.certifications,label='b')\n",
    "#marks vs backlogs\n",
    "plt.scatter(data.marks,data.backlogs,label='g')"
   ]
  },
  {
   "cell_type": "code",
   "execution_count": 16,
   "id": "ae3ae6e6",
   "metadata": {},
   "outputs": [],
   "source": [
    "x = data[['attendance']]\n",
    "y=data['marks']"
   ]
  },
  {
   "cell_type": "code",
   "execution_count": 22,
   "id": "a0fceae0",
   "metadata": {},
   "outputs": [],
   "source": [
    "#creating an instance of PolunomialRegression\n",
    "pf = PolynomialFeatures(degree = 4)\n",
    "x1 = pf.fit_transform(x)"
   ]
  },
  {
   "cell_type": "code",
   "execution_count": 33,
   "id": "e28af07a",
   "metadata": {},
   "outputs": [],
   "source": [
    "#model instance\n",
    "model = linear_model.LinearRegression()\n",
    "model.fit(x1,y)\n",
    "y_est = model.predict(x1)"
   ]
  },
  {
   "cell_type": "code",
   "execution_count": 50,
   "id": "8c57e0da",
   "metadata": {},
   "outputs": [
    {
     "name": "stdout",
     "output_type": "stream",
     "text": [
      "r2 score = 96 %\n"
     ]
    }
   ],
   "source": [
    "r_score = metrics.r2_score(y,y_est)\n",
    "print(\"r2 score =\",int(r_score*100),\"%\")"
   ]
  },
  {
   "cell_type": "code",
   "execution_count": 49,
   "id": "0e7b4b23",
   "metadata": {},
   "outputs": [
    {
     "name": "stdout",
     "output_type": "stream",
     "text": [
      "Enter the attendence of the person:200\n",
      "[-554.02580041]\n"
     ]
    }
   ],
   "source": [
    "#predcting using user defined values\n",
    "val = int(input(\"Enter the attendence of the person:\"))\n",
    "val = pf.fit_transform([[val]])\n",
    "pred = model.predict(val)\n",
    "print(pred)"
   ]
  }
 ],
 "metadata": {
  "kernelspec": {
   "display_name": "Python 3 (ipykernel)",
   "language": "python",
   "name": "python3"
  },
  "language_info": {
   "codemirror_mode": {
    "name": "ipython",
    "version": 3
   },
   "file_extension": ".py",
   "mimetype": "text/x-python",
   "name": "python",
   "nbconvert_exporter": "python",
   "pygments_lexer": "ipython3",
   "version": "3.9.13"
  }
 },
 "nbformat": 4,
 "nbformat_minor": 5
}
